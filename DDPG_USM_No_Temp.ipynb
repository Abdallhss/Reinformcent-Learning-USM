{
  "nbformat": 4,
  "nbformat_minor": 0,
  "metadata": {
    "colab": {
      "name": "DDPG_USM_No_Temp.ipynb",
      "provenance": [],
      "collapsed_sections": [],
      "authorship_tag": "ABX9TyPbvgQkXUoI4WohjjxwOpxo",
      "include_colab_link": true
    },
    "kernelspec": {
      "name": "python3",
      "display_name": "Python 3"
    }
  },
  "cells": [
    {
      "cell_type": "markdown",
      "metadata": {
        "id": "view-in-github",
        "colab_type": "text"
      },
      "source": [
        "<a href=\"https://colab.research.google.com/github/Abdallhss/Reinformcent-Learning-USM/blob/main/DDPG_USM_No_Temp.ipynb\" target=\"_parent\"><img src=\"https://colab.research.google.com/assets/colab-badge.svg\" alt=\"Open In Colab\"/></a>"
      ]
    },
    {
      "cell_type": "code",
      "metadata": {
        "id": "C3ilREpqyGpY"
      },
      "source": [
        "from sklearn.preprocessing import StandardScaler\r\n",
        "import matplotlib.pyplot as plt\r\n",
        "import random\r\n",
        "\r\n",
        "import os\r\n",
        "import numpy as np\r\n",
        "import tensorflow as tf\r\n",
        "import tensorflow.keras as keras\r\n",
        "from tensorflow.keras.optimizers import Adam\r\n",
        "\r\n",
        "\r\n",
        "from collections import deque\r\n",
        "from tensorflow.keras.layers import Dense\r\n",
        "\r\n",
        "%matplotlib inline\r\n",
        "\r\n",
        "#tf.enable_eager_execution()\r\n"
      ],
      "execution_count": 952,
      "outputs": []
    },
    {
      "cell_type": "code",
      "metadata": {
        "colab": {
          "base_uri": "https://localhost:8080/"
        },
        "id": "mcUTRQahFUuh",
        "outputId": "e66745db-89b1-4538-8894-8670eb4224af"
      },
      "source": [
        "tf.version"
      ],
      "execution_count": 953,
      "outputs": [
        {
          "output_type": "execute_result",
          "data": {
            "text/plain": [
              "<module 'tensorflow._api.v2.version' from '/usr/local/lib/python3.6/dist-packages/tensorflow/_api/v2/version/__init__.py'>"
            ]
          },
          "metadata": {
            "tags": []
          },
          "execution_count": 953
        }
      ]
    },
    {
      "cell_type": "code",
      "metadata": {
        "id": "i7qMOw6uyQOW"
      },
      "source": [
        "# get the current response given the frequency\r\n",
        "class USM_model:\r\n",
        "  def __init__(self, opt_freq, min_current, init_freq, min_temp, max_temp, step_size):\r\n",
        "    self.opt_freq = opt_freq\r\n",
        "    self.min_current = min_current\r\n",
        "    self.freq = init_freq\r\n",
        "    self.min_temp = min_temp\r\n",
        "    self.max_temp = max_temp\r\n",
        "    self.temp = min_temp\r\n",
        "    self.step_size = step_size\r\n",
        "\r\n",
        "  def USM_current(self,freq):\r\n",
        "    dT = self.temp - self.min_temp\r\n",
        "    return self.min_current + 50*np.square(freq-np.multiply(self.opt_freq,(1-0.1*dT/self.min_temp)))\r\n",
        "  \r\n",
        "  def take_action(self,action):\r\n",
        "    if action == 0:\r\n",
        "      self.freq += self.step_size\r\n",
        "    elif action == 1:\r\n",
        "      self.freq -= self.step_size\r\n",
        "\r\n",
        "  def step(self,action):\r\n",
        "    self.freq += action\r\n",
        "    return self.freq, self.USM_current(self.freq)\r\n",
        "  \r\n",
        "  def set_freq(self,f):\r\n",
        "    self.freq = f\r\n",
        "  def get_freq(self):\r\n",
        "    return self.freq\r\n",
        "  def set_step_size(self,step):\r\n",
        "    self.step_size = step \r\n",
        "  def get_step_size(self):\r\n",
        "    return self.step_size\r\n",
        "  def set_temp(self,temp):\r\n",
        "    self.temp = temp\r\n",
        "  \r\n",
        "  def step_temp(self,step):\r\n",
        "    new_temp = self.temp + step\r\n",
        "    if new_temp < self.min_temp:\r\n",
        "      new_temp = self.min_temp\r\n",
        "    elif new_temp > self.max_temp:\r\n",
        "      new_temp = self.max_temp\r\n",
        "    self.temp = new_temp\r\n",
        "    \r\n",
        "\r\n",
        "\r\n",
        "  def get_temp(self):\r\n",
        "    return self.temp\r\n"
      ],
      "execution_count": 954,
      "outputs": []
    },
    {
      "cell_type": "code",
      "metadata": {
        "id": "zYpeeOWnySmM"
      },
      "source": [
        "min_current = 100\r\n",
        "min_temp = 35\r\n",
        "max_temp = 40\r\n",
        "opt_freq = 40\r\n",
        "initial_freq = 41\r\n",
        "freq_step = 0.01\r\n",
        "USM = USM_model(opt_freq, min_current, initial_freq, min_temp, max_temp, freq_step)"
      ],
      "execution_count": 955,
      "outputs": []
    },
    {
      "cell_type": "code",
      "metadata": {
        "colab": {
          "base_uri": "https://localhost:8080/",
          "height": 295
        },
        "id": "tvpJfTU1yUm2",
        "outputId": "12d232a0-ff3e-4063-aeb8-8d09ed96fc0e"
      },
      "source": [
        "freqs = np.linspace(38.5,41,1000,dtype=np.float32)\r\n",
        "USM.set_temp(35)\r\n",
        "currents_35 = np.array(USM.USM_current(freqs))\r\n",
        "USM.set_temp(37.5)\r\n",
        "currents_37_5 = np.array(USM.USM_current(freqs))\r\n",
        "USM.set_temp(40)\r\n",
        "currents_40 = np.array(USM.USM_current(freqs))\r\n",
        "plt.plot(freqs, currents_35, label='T = 35')\r\n",
        "plt.plot(freqs, currents_37_5, label='T = 37.5')\r\n",
        "plt.plot(freqs, currents_40, label='T = 40')\r\n",
        "\r\n",
        "\r\n",
        "plt.legend(loc='best')\r\n",
        "plt.xlabel(\"Frequency (kHz)\");\r\n",
        "plt.ylabel(\"Current (mA)\");\r\n",
        "plt.title(\"Temperature Effect\");\r\n",
        "plt.show()"
      ],
      "execution_count": 956,
      "outputs": [
        {
          "output_type": "display_data",
          "data": {
            "image/png": "[encoded data removed]",
            "text/plain": [
              "<Figure size 432x288 with 1 Axes>"
            ]
          },
          "metadata": {
            "tags": [],
            "needs_background": "light"
          }
        }
      ]
    },
    {
      "cell_type": "code",
      "metadata": {
        "id": "qP-I817wyXVT"
      },
      "source": [
        "# create freq scaler\r\n",
        "scaler_freq = StandardScaler()\r\n",
        "freqs = np.linspace(39,41,1000,dtype=np.float32).reshape(-1, 1)\r\n",
        "scaler_freq.fit(freqs);\r\n",
        "\r\n",
        "# create temp scaler\r\n",
        "scaler_temp = StandardScaler()\r\n",
        "temps = np.linspace(30,50,1000,dtype=np.float32).reshape(-1, 1)\r\n",
        "scaler_temp.fit(temps);\r\n",
        "\r\n",
        "scaler_reward = StandardScaler()\r\n",
        "USM.set_temp(35)\r\n",
        "currents = np.array(USM.USM_current(freqs))\r\n",
        "scaler_reward.fit(currents);"
      ],
      "execution_count": 957,
      "outputs": []
    },
    {
      "cell_type": "code",
      "metadata": {
        "id": "Bk8Lk4Wcpyzm"
      },
      "source": [
        "class ReplayBuffer:\r\n",
        "    def __init__(self, max_size, input_shape, n_actions):\r\n",
        "        self.mem_size = max_size\r\n",
        "        self.mem_cntr = 0\r\n",
        "        self.state_memory = np.zeros((self.mem_size, *input_shape))\r\n",
        "        self.new_state_memory = np.zeros((self.mem_size, *input_shape))\r\n",
        "        self.action_memory = np.zeros((self.mem_size, n_actions))\r\n",
        "        self.reward_memory = np.zeros(self.mem_size)\r\n",
        "\r\n",
        "    def store_transition(self, state, action, reward, state_):\r\n",
        "        index = self.mem_cntr % self.mem_size\r\n",
        "\r\n",
        "        self.state_memory[index] = state\r\n",
        "        self.new_state_memory[index] = state_\r\n",
        "        self.action_memory[index] = action\r\n",
        "        self.reward_memory[index] = reward\r\n",
        "\r\n",
        "        self.mem_cntr += 1\r\n",
        "\r\n",
        "    def sample_buffer(self, batch_size):\r\n",
        "        max_mem = min(self.mem_cntr, self.mem_size)\r\n",
        "\r\n",
        "        batch = np.random.choice(max_mem, batch_size, replace=False)\r\n",
        "\r\n",
        "        states = self.state_memory[batch]\r\n",
        "        states_ = self.new_state_memory[batch]\r\n",
        "        actions = self.action_memory[batch]\r\n",
        "        rewards = self.reward_memory[batch]\r\n",
        "\r\n",
        "        return states, actions, rewards, states_"
      ],
      "execution_count": 958,
      "outputs": []
    },
    {
      "cell_type": "code",
      "metadata": {
        "id": "197_T2Gp0834"
      },
      "source": [
        "class Agent:\r\n",
        "    def __init__(self, input_dims, alpha=0.0002, beta=0.001, env=None,\r\n",
        "            gamma=0, n_actions=1, max_size=2000, tau=0.999, \r\n",
        "            fc1=64, fc2=32, batch_size=32, noise=0.1):\r\n",
        "        self.gamma = gamma\r\n",
        "        self.tau = tau\r\n",
        "        self.memory = ReplayBuffer(max_size, input_dims, n_actions)\r\n",
        "        self.batch_size = batch_size\r\n",
        "        self.n_actions = n_actions\r\n",
        "        self.noise = noise\r\n",
        "        self.max_action = 0.5\r\n",
        "        self.min_action = -0.5\r\n",
        "        \r\n",
        "        self.actor = ActorNetwork(fc1_dims=fc1, fc2_dims=fc2,name='actor')\r\n",
        "        self.critic = CriticNetwork(fc1_dims=fc1, fc2_dims=fc2,name='critic')\r\n",
        "        self.target_actor = ActorNetwork(fc1_dims=fc1, fc2_dims=fc2,name='target_actor')\r\n",
        "        self.target_critic = CriticNetwork(fc1_dims=fc1, fc2_dims=fc2,name='target_critic')\r\n",
        "\r\n",
        "        self.actor.compile(optimizer=Adam(learning_rate=alpha),run_eagerly=True)\r\n",
        "        self.critic.compile(optimizer=Adam(learning_rate=beta))\r\n",
        "        self.target_actor.compile(optimizer=Adam(learning_rate=alpha))\r\n",
        "        self.target_critic.compile(optimizer=Adam(learning_rate=beta))\r\n",
        "\r\n",
        "        self.update_network_parameters(tau=1)\r\n",
        "\r\n",
        "    def update_network_parameters(self, tau=None):\r\n",
        "        if tau is None:\r\n",
        "            tau = self.tau\r\n",
        "\r\n",
        "        weights = []\r\n",
        "        targets = self.target_actor.weights\r\n",
        "        for i, weight in enumerate(self.actor.weights):\r\n",
        "            weights.append(weight * tau + targets[i]*(1-tau))\r\n",
        "        self.target_actor.set_weights(weights)\r\n",
        "\r\n",
        "        weights = []\r\n",
        "        targets = self.target_critic.weights\r\n",
        "        for i, weight in enumerate(self.critic.weights):\r\n",
        "            weights.append(weight * tau + targets[i]*(1-tau))\r\n",
        "        self.target_critic.set_weights(weights)\r\n",
        "\r\n",
        "    def remember(self, state, action, reward, new_state):\r\n",
        "        self.memory.store_transition(state, action, reward, new_state)\r\n",
        "\r\n",
        "    def save_models(self):\r\n",
        "        print('... saving models ...')\r\n",
        "        self.actor.save_weights(self.actor.checkpoint_file)\r\n",
        "        self.target_actor.save_weights(self.target_actor.checkpoint_file)\r\n",
        "        self.critic.save_weights(self.critic.checkpoint_file)\r\n",
        "        self.target_critic.save_weights(self.target_critic.checkpoint_file)\r\n",
        "\r\n",
        "    def load_models(self):\r\n",
        "        print('... loading models ...')\r\n",
        "        self.actor.load_weights(self.actor.checkpoint_file)\r\n",
        "        self.target_actor.load_weights(self.target_actor.checkpoint_file)\r\n",
        "        self.critic.load_weights(self.critic.checkpoint_file)\r\n",
        "        self.target_critic.load_weights(self.target_critic.checkpoint_file)\r\n",
        "\r\n",
        "    def choose_action(self, observation, evaluate=False):\r\n",
        "        state = tf.convert_to_tensor(observation, dtype=tf.float32)\r\n",
        "        actions = self.actor(state)\r\n",
        "        if not evaluate:\r\n",
        "            actions += tf.random.normal(shape=[self.n_actions],\r\n",
        "                    mean=0.0, stddev=self.noise)\r\n",
        "        # note that if the environment has an action > 1, we have to multiply by\r\n",
        "        # max action at some point\r\n",
        "        actions = tf.clip_by_value(actions, self.min_action, self.max_action)\r\n",
        "\r\n",
        "        return actions[0]\r\n",
        "\r\n",
        "    def learn(self):\r\n",
        "        if self.memory.mem_cntr < self.batch_size:\r\n",
        "            return\r\n",
        "\r\n",
        "        state, action, reward, new_state = \\\r\n",
        "                self.memory.sample_buffer(self.batch_size)\r\n",
        "\r\n",
        "        states = tf.convert_to_tensor(state, dtype=tf.float32)\r\n",
        "        states_ = tf.convert_to_tensor(new_state, dtype=tf.float32)\r\n",
        "        rewards = tf.convert_to_tensor(reward, dtype=tf.float32)\r\n",
        "        actions = tf.convert_to_tensor(action, dtype=tf.float32)\r\n",
        "\r\n",
        "        with tf.GradientTape() as tape:\r\n",
        "            target_actions = self.target_actor(states_)\r\n",
        "            critic_value_ = tf.squeeze(self.target_critic(\r\n",
        "                                states_, target_actions), 1)\r\n",
        "            critic_value = tf.squeeze(self.critic(states, actions), 1)\r\n",
        "            target = reward + self.gamma*critic_value_\r\n",
        "            critic_loss = keras.losses.MSE(target, critic_value)\r\n",
        "\r\n",
        "        critic_network_gradient = tape.gradient(critic_loss,\r\n",
        "                                            self.critic.trainable_variables)\r\n",
        "        self.critic.optimizer.apply_gradients(zip(\r\n",
        "            critic_network_gradient, self.critic.trainable_variables))\r\n",
        "\r\n",
        "        with tf.GradientTape() as tape:\r\n",
        "            new_policy_actions = self.actor(states)\r\n",
        "            actor_loss = -self.critic(states, new_policy_actions)\r\n",
        "            actor_loss = tf.math.reduce_mean(actor_loss)\r\n",
        "\r\n",
        "        actor_network_gradient = tape.gradient(actor_loss, \r\n",
        "                                    self.actor.trainable_variables)\r\n",
        "        self.actor.optimizer.apply_gradients(zip(\r\n",
        "            actor_network_gradient, self.actor.trainable_variables))\r\n",
        "\r\n",
        "        self.update_network_parameters()\r\n",
        "        "
      ],
      "execution_count": 959,
      "outputs": []
    },
    {
      "cell_type": "code",
      "metadata": {
        "id": "EGsWLIZS1bE5"
      },
      "source": [
        "class CriticNetwork(keras.Model):\r\n",
        "    def __init__(self, fc1_dims=64, fc2_dims=32,\r\n",
        "            name='critic', chkpt_dir='tmp/ddpg'):\r\n",
        "        super(CriticNetwork, self).__init__()\r\n",
        "        self.fc1_dims = fc1_dims\r\n",
        "        self.fc2_dims = fc2_dims\r\n",
        "\r\n",
        "        self.model_name = name\r\n",
        "        self.checkpoint_dir = chkpt_dir\r\n",
        "        self.checkpoint_file = os.path.join(self.checkpoint_dir, \r\n",
        "                    self.model_name+'_ddpg.h5')\r\n",
        "\r\n",
        "        self.fc1 = Dense(self.fc1_dims, activation='relu')\r\n",
        "        self.fc2 = Dense(self.fc2_dims, activation='relu')\r\n",
        "        self.q = Dense(1, activation=None)\r\n",
        "\r\n",
        "    def call(self, state, action):\r\n",
        "        action_value = self.fc1(tf.concat([state, action], axis=1))\r\n",
        "        action_value = self.fc2(action_value)\r\n",
        "\r\n",
        "        q = self.q(action_value)\r\n",
        "\r\n",
        "        return q\r\n",
        "\r\n",
        "class ActorNetwork(keras.Model):\r\n",
        "    def __init__(self, fc1_dims=64, fc2_dims=32, n_actions=1, name='actor',\r\n",
        "            chkpt_dir='tmp/ddpg'):\r\n",
        "        super(ActorNetwork, self).__init__()\r\n",
        "        self.fc1_dims = fc1_dims\r\n",
        "        self.fc2_dims = fc2_dims\r\n",
        "        self.n_actions = n_actions\r\n",
        "\r\n",
        "        self.model_name = name\r\n",
        "        self.checkpoint_dir = chkpt_dir\r\n",
        "        self.checkpoint_file = os.path.join(self.checkpoint_dir, \r\n",
        "                    self.model_name+'_ddpg.h5')\r\n",
        "\r\n",
        "        self.fc1 = Dense(self.fc1_dims, activation='relu')\r\n",
        "        self.fc2 = Dense(self.fc2_dims, activation='relu')\r\n",
        "        self.mu = Dense(self.n_actions, activation='tanh')\r\n",
        "\r\n",
        "    def call(self, state):\r\n",
        "        prob = self.fc1(state)\r\n",
        "        prob = self.fc2(prob)\r\n",
        "\r\n",
        "        mu = self.mu(prob)\r\n",
        "\r\n",
        "        return mu"
      ],
      "execution_count": 960,
      "outputs": []
    },
    {
      "cell_type": "code",
      "metadata": {
        "id": "Y3Z2Nk105Obb"
      },
      "source": [
        "def plot_learning_curve(x, scores, figure_file):\r\n",
        "    running_avg = np.zeros(len(scores))\r\n",
        "    for i in range(len(running_avg)):\r\n",
        "        running_avg[i] = np.mean(scores[max(0, i-100):(i+1)])\r\n",
        "    plt.plot(x, running_avg)\r\n",
        "    plt.title('Running average of previous 100 scores')\r\n",
        "    plt.savefig(figure_file)"
      ],
      "execution_count": 961,
      "outputs": []
    },
    {
      "cell_type": "code",
      "metadata": {
        "colab": {
          "base_uri": "https://localhost:8080/",
          "height": 489
        },
        "id": "8nbJ_BXY4qV9",
        "outputId": "9e907a83-75df-48cc-d39b-773323adade3"
      },
      "source": [
        "#agent = Agent(input_dims= [1], n_actions=1,alpha=0.0002, beta=0.001,\r\n",
        "#            gamma=0, max_size=200, tau=0.999, \r\n",
        "#            fc1=64, fc2=32, batch_size=64, noise=0.1)\r\n",
        "random.seed(2)\r\n",
        "agent = Agent(input_dims= [1], n_actions=1,alpha=0.0007, beta=0.001,\r\n",
        "            gamma=0, max_size=200, tau=0.999, \r\n",
        "            fc1=64, fc2=32, batch_size=64, noise=0.1)\r\n",
        "n_games = 1\r\n",
        "n_steps = 1000\r\n",
        "figure_file = 'USM.png'\r\n",
        "\r\n",
        "best_score = -np.inf\r\n",
        "score_history = []\r\n",
        "train_actions = []\r\n",
        "train_states = []\r\n",
        "train_rewards = []\r\n",
        "train_steps = []\r\n",
        "train_temps = []\r\n",
        "load_checkpoint = False\r\n",
        "mean_reward = 0\r\n",
        "evaluate = False\r\n",
        "USM.set_temp(35)\r\n",
        "for i in range(n_games):\r\n",
        "    USM.set_freq(41)#38+round(random.random(),1)*4\r\n",
        "    observation = USM.get_freq()\r\n",
        "    observation = (scaler_freq.transform(np.array(observation).reshape(-1,1))).squeeze()\r\n",
        "    observation = np.reshape(observation, [1,1])\r\n",
        "    score = 0\r\n",
        "    for step in range(n_steps):\r\n",
        "        action = agent.choose_action(observation, evaluate)\r\n",
        "        observation_, reward = USM.step(action)\r\n",
        "\r\n",
        "\r\n",
        "        train_steps.append(step)\r\n",
        "        train_rewards.append(reward)\r\n",
        "        train_actions.append(action)\r\n",
        "        train_states.append(observation_)\r\n",
        "\r\n",
        "\r\n",
        "        observation_ = scaler_freq.transform(np.array(observation_).reshape(-1,1))\r\n",
        "        \r\n",
        "        score += reward\r\n",
        "\r\n",
        "        mean_reward = mean_reward + (reward-mean_reward)/(step+1)  \r\n",
        "\r\n",
        "        reward = scaler_reward.transform(np.array(reward).reshape(-1,1))\r\n",
        "        agent.remember(observation, action, -reward, observation_)\r\n",
        "        agent.learn()\r\n",
        "        observation = observation_\r\n",
        "        \r\n",
        "        if (step % 100) == 0:\r\n",
        "          print(\"Step: {} -- freq: {} -- reward: {}\".format(step,USM.get_freq(), np.mean(train_rewards[-100:])))\r\n",
        "\r\n",
        "    score_history.append(score)\r\n",
        "    avg_score = np.mean(score_history[-100:])\r\n",
        "\r\n",
        "    if avg_score > best_score:\r\n",
        "        best_score = avg_score\r\n",
        "        #agent.save_models()\r\n",
        "\r\n",
        "    print('episode ', i, 'score %.1f' % score, 'avg score %.1f' % avg_score)\r\n",
        "    print(USM.get_freq())\r\n",
        "if not load_checkpoint:\r\n",
        "    x = [i+1 for i in range(n_games)]\r\n",
        "    plot_learning_curve(x, score_history, figure_file)"
      ],
      "execution_count": 971,
      "outputs": [
        {
          "output_type": "stream",
          "text": [
            "Step: 0 -- freq: [40.908535] -- reward: 141.27178955078125\n",
            "Step: 100 -- freq: [40.064217] -- reward: 103.69268798828125\n",
            "Step: 200 -- freq: [39.425148] -- reward: 106.89152526855469\n",
            "Step: 300 -- freq: [40.033573] -- reward: 104.96180725097656\n",
            "Step: 400 -- freq: [39.967926] -- reward: 101.38482666015625\n",
            "Step: 500 -- freq: [39.95696] -- reward: 100.513916015625\n",
            "Step: 600 -- freq: [40.053177] -- reward: 100.49445343017578\n",
            "Step: 700 -- freq: [40.2269] -- reward: 100.40022277832031\n",
            "Step: 800 -- freq: [40.07801] -- reward: 100.5412826538086\n",
            "Step: 900 -- freq: [39.979904] -- reward: 100.52039337158203\n",
            "episode  0 score 102031.4 avg score 102031.4\n",
            "tf.Tensor([40.021473], shape=(1,), dtype=float32)\n"
          ],
          "name": "stdout"
        },
        {
          "output_type": "display_data",
          "data": {
            "image/png": "[encoded data removed]",
            "text/plain": [
              "<Figure size 432x288 with 1 Axes>"
            ]
          },
          "metadata": {
            "tags": [],
            "needs_background": "light"
          }
        }
      ]
    },
    {
      "cell_type": "code",
      "metadata": {
        "colab": {
          "base_uri": "https://localhost:8080/",
          "height": 573
        },
        "id": "hPs-yCBsC7L1",
        "outputId": "adb18719-7540-4c0d-909d-9e15be673975"
      },
      "source": [
        "states_40 = np.array(train_states).squeeze()\r\n",
        "plt.plot(train_steps, states_40, 'go', label='True data')\r\n",
        "plt.xlabel(\"Step\");\r\n",
        "plt.ylabel(\"Frequency\");\r\n",
        "plt.title(\"DQL frequency\");\r\n",
        "plt.show()\r\n",
        "plt.plot(train_steps[-100:], states_40[-100:], 'go', label='True data')\r\n",
        "plt.xlabel(\"Step\");\r\n",
        "plt.ylabel(\"Frequency\");\r\n",
        "plt.title(\"DQL frequency\");\r\n",
        "plt.show()"
      ],
      "execution_count": 972,
      "outputs": [
        {
          "output_type": "display_data",
          "data": {
            "image/png": "[encoded data removed]",
            "text/plain": [
              "<Figure size 432x288 with 1 Axes>"
            ]
          },
          "metadata": {
            "tags": [],
            "needs_background": "light"
          }
        },
        {
          "output_type": "display_data",
          "data": {
            "image/png": "[encoded data removed]",
            "text/plain": [
              "<Figure size 432x288 with 1 Axes>"
            ]
          },
          "metadata": {
            "tags": [],
            "needs_background": "light"
          }
        }
      ]
    },
    {
      "cell_type": "code",
      "metadata": {
        "colab": {
          "base_uri": "https://localhost:8080/",
          "height": 295
        },
        "id": "IY2Po9pSK27B",
        "outputId": "0786d01a-1d25-4930-a1fc-9d605e248801"
      },
      "source": [
        "freqs = np.linspace(39,41,1000,dtype=np.float32).reshape(-1, 1)\r\n",
        "USM.set_temp(35)\r\n",
        "currents = np.array(USM.USM_current(freqs))\r\n",
        "actions = np.repeat([0],1000).reshape(-1,1)\r\n",
        "\r\n",
        "freqs_t = scaler_freq.transform(freqs)\r\n",
        "predicted = -np.squeeze(agent.critic(freqs_t, actions), 1)\r\n",
        "\r\n",
        "predicted = scaler_reward.inverse_transform(predicted)\r\n",
        "plt.plot(freqs, currents, 'g--', label='True data')\r\n",
        "plt.scatter(freqs, predicted, label='DDPG')\r\n",
        "\r\n",
        "plt.legend(loc='best')\r\n",
        "plt.xlabel(\"Frequency (kHz)\");\r\n",
        "plt.ylabel(\"Current (mA)\");\r\n",
        "plt.title(\"Sample Current Response\");\r\n",
        "plt.show()"
      ],
      "execution_count": 973,
      "outputs": [
        {
          "output_type": "display_data",
          "data": {
            "image/png": "[encoded data removed]",
            "text/plain": [
              "<Figure size 432x288 with 1 Axes>"
            ]
          },
          "metadata": {
            "tags": [],
            "needs_background": "light"
          }
        }
      ]
    },
    {
      "cell_type": "code",
      "metadata": {
        "colab": {
          "base_uri": "https://localhost:8080/",
          "height": 295
        },
        "id": "B7nXNe0n6O3c",
        "outputId": "53ce9ac7-d1bc-4874-cd69-f4da2a65a710"
      },
      "source": [
        "freqs = np.linspace(38,42,1000,dtype=np.float32).reshape(-1, 1)\r\n",
        "USM.set_temp(35)\r\n",
        "currents = np.array(USM.USM_current(freqs))\r\n",
        "actions = np.repeat([0],1000).reshape(-1,1)\r\n",
        "\r\n",
        "\r\n",
        "predicted = np.squeeze(agent.actor(freqs_t), 1)\r\n",
        "\r\n",
        "#predicted = -scaler_reward.inverse_transform(predicted)\r\n",
        "#plt.plot(freqs, currents, 'g--', label='True data')\r\n",
        "plt.scatter(freqs, predicted, label='DDPG')\r\n",
        "\r\n",
        "plt.legend(loc='best')\r\n",
        "plt.xlabel(\"Frequency (kHz)\");\r\n",
        "plt.ylabel(\"Action (kHz)\");\r\n",
        "plt.title(\"Sample Current Response\");\r\n",
        "plt.show()"
      ],
      "execution_count": 983,
      "outputs": [
        {
          "output_type": "display_data",
          "data": {
            "image/png": "[encoded data removed]",
            "text/plain": [
              "<Figure size 432x288 with 1 Axes>"
            ]
          },
          "metadata": {
            "tags": [],
            "needs_background": "light"
          }
        }
      ]
    },
    {
      "cell_type": "code",
      "metadata": {
        "id": "J9QQcYmJEppU"
      },
      "source": [
        "USM.set_freq(41)#38+round(random.random(),1)*4\r\n",
        "USM.set_temp(35)\r\n",
        "observation = USM.get_freq()\r\n",
        "observation = scaler_freq.transform(np.array(observation).reshape(-1,1))\r\n",
        "actions = []\r\n",
        "states = []\r\n",
        "rewards = []\r\n",
        "steps = []\r\n",
        "for i in range (1000):\r\n",
        "  action = agent.choose_action(observation,True)\r\n",
        "  # Advance the game to the next frame based on the action.\r\n",
        "  # Reward is 1 for every frame the pole survived\r\n",
        "  next_freq, reward = USM.step(action)\r\n",
        "  states.append(next_freq)\r\n",
        "  observation = scaler_freq.transform(np.array(next_freq).reshape(-1,1))\r\n",
        "  steps.append(i)\r\n",
        "  rewards.append(reward)\r\n",
        "  actions.append(action)\r\n"
      ],
      "execution_count": 989,
      "outputs": []
    },
    {
      "cell_type": "code",
      "metadata": {
        "colab": {
          "base_uri": "https://localhost:8080/",
          "height": 295
        },
        "id": "J3szG8jkFod2",
        "outputId": "febd17ec-b28f-4da1-baaa-b4917f4eeeda"
      },
      "source": [
        "states_40 = np.array(states).squeeze()\r\n",
        "plt.plot(steps, states_40, 'go', label='True data')\r\n",
        "plt.xlabel(\"Step\");\r\n",
        "plt.ylabel(\"Frequency\");\r\n",
        "plt.title(\"DQL frequency\");\r\n",
        "plt.show()\r\n"
      ],
      "execution_count": 990,
      "outputs": [
        {
          "output_type": "display_data",
          "data": {
            "image/png": "[encoded data removed]",
            "text/plain": [
              "<Figure size 432x288 with 1 Axes>"
            ]
          },
          "metadata": {
            "tags": [],
            "needs_background": "light"
          }
        }
      ]
    },
    {
      "cell_type": "code",
      "metadata": {
        "colab": {
          "base_uri": "https://localhost:8080/",
          "height": 295
        },
        "id": "8JZOeiRTyNkE",
        "outputId": "3968e8f1-4009-4b4b-9189-2007acf44478"
      },
      "source": [
        "actions_40 = np.array(actions).squeeze()\r\n",
        "plt.plot(steps, actions_40, 'go', label='True data')\r\n",
        "plt.xlabel(\"Step\");\r\n",
        "plt.ylabel(\"Frequency\");\r\n",
        "plt.title(\"DQL frequency\");\r\n",
        "plt.show()"
      ],
      "execution_count": 991,
      "outputs": [
        {
          "output_type": "display_data",
          "data": {
            "image/png": "[encoded data removed]",
            "text/plain": [
              "<Figure size 432x288 with 1 Axes>"
            ]
          },
          "metadata": {
            "tags": [],
            "needs_background": "light"
          }
        }
      ]
    },
    {
      "cell_type": "code",
      "metadata": {
        "colab": {
          "base_uri": "https://localhost:8080/",
          "height": 295
        },
        "id": "dvAZjvmJGmyN",
        "outputId": "3c794eb8-f03c-4238-f2c5-52955d23c369"
      },
      "source": [
        "rewards_40 = np.array(rewards).squeeze()\r\n",
        "plt.plot(steps, rewards_40, 'go', label='True data')\r\n",
        "plt.xlabel(\"Step\");\r\n",
        "plt.ylabel(\"Reward\");\r\n",
        "plt.title(\"DQL Reward\");\r\n",
        "plt.show()\r\n",
        "\r\n"
      ],
      "execution_count": 992,
      "outputs": [
        {
          "output_type": "display_data",
          "data": {
            "image/png": "[encoded data removed]",
            "text/plain": [
              "<Figure size 432x288 with 1 Axes>"
            ]
          },
          "metadata": {
            "tags": [],
            "needs_background": "light"
          }
        }
      ]
    },
    {
      "cell_type": "code",
      "metadata": {
        "colab": {
          "base_uri": "https://localhost:8080/"
        },
        "id": "L3sybdRFMZuh",
        "outputId": "e09249ac-f901-45ce-f9de-14c869009ba9"
      },
      "source": [
        "USM.get_freq()"
      ],
      "execution_count": 993,
      "outputs": [
        {
          "output_type": "execute_result",
          "data": {
            "text/plain": [
              "<tf.Tensor: shape=(1,), dtype=float32, numpy=array([39.997128], dtype=float32)>"
            ]
          },
          "metadata": {
            "tags": []
          },
          "execution_count": 993
        }
      ]
    }
  ]
}